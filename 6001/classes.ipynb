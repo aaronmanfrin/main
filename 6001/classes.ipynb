{
 "cells": [
  {
   "cell_type": "markdown",
   "metadata": {},
   "source": [
    "Classes in python\n"
   ]
  },
  {
   "cell_type": "code",
   "execution_count": 18,
   "metadata": {},
   "outputs": [],
   "source": [
    "##classes are used in most languages to group our functions and data\n",
    "## those are called methods and attributes\n",
    "\n",
    "class Employee: ## allows us to create multiple instances of employees and reference each instances data (classes are blueprints)\n",
    "    pass\n",
    "\n",
    "\n",
    "emp1= Employee()\n",
    "emp2=Employee()\n"
   ]
  },
  {
   "cell_type": "code",
   "execution_count": 19,
   "metadata": {},
   "outputs": [
    {
     "name": "stdout",
     "output_type": "stream",
     "text": [
      "<__main__.Employee object at 0x107220580>\n"
     ]
    }
   ],
   "source": [
    "print(emp1)"
   ]
  },
  {
   "cell_type": "code",
   "execution_count": 20,
   "metadata": {},
   "outputs": [],
   "source": [
    "emp1.first='Aaron' ## editing an attribute of the emp1 instance\n",
    "emp1.last='Dsouza'\n",
    "emp1.pay= 88000\n",
    "\n",
    "emp2.first='Dave'\n",
    "emp2.last='Davidson'\n",
    "emp2.pay= 80000"
   ]
  },
  {
   "cell_type": "code",
   "execution_count": 21,
   "metadata": {},
   "outputs": [
    {
     "name": "stdout",
     "output_type": "stream",
     "text": [
      "Aaron\n"
     ]
    }
   ],
   "source": [
    "print(emp1.first) ## calling an attribute of the emp1"
   ]
  },
  {
   "cell_type": "code",
   "execution_count": 22,
   "metadata": {},
   "outputs": [],
   "source": [
    "class Employee:\n",
    "    def __init__(self,first,last,pay): ## the def init method is necessary to initialize the class; self will automatically be passed in to the class and will reference the specific instance when called\n",
    "        self.first = first\n",
    "        self.last = last\n",
    "        self.pay = pay\n",
    "        self.email = first + '.'+last+'@email.com'\n"
   ]
  },
  {
   "cell_type": "code",
   "execution_count": 23,
   "metadata": {},
   "outputs": [],
   "source": [
    "emp2 = Employee('Aaron','Dsouza',88000) ## creating a new instance of emp2 with the args passed in. init will be run automatically"
   ]
  },
  {
   "cell_type": "code",
   "execution_count": 24,
   "metadata": {},
   "outputs": [
    {
     "name": "stdout",
     "output_type": "stream",
     "text": [
      "Aaron\n"
     ]
    }
   ],
   "source": [
    "print(emp2.first)"
   ]
  },
  {
   "cell_type": "code",
   "execution_count": 25,
   "metadata": {},
   "outputs": [],
   "source": [
    "class Employee:\n",
    "    def __init__(self,first,last,pay): \n",
    "        self.first = first\n",
    "        self.last = last\n",
    "        self.pay = pay\n",
    "        self.email = first + '.'+last+'@email.com'\n",
    "    def fullname(self): ## creating a method that we can call and will return the full name\n",
    "        return (self.first +\" \"+self.last)"
   ]
  },
  {
   "cell_type": "code",
   "execution_count": 26,
   "metadata": {},
   "outputs": [
    {
     "name": "stdout",
     "output_type": "stream",
     "text": [
      "Aaron Dsouza\n"
     ]
    }
   ],
   "source": [
    "emp3 = Employee('Aaron','Dsouza',88000)\n",
    "print(emp3.fullname()) ## need the parens since its a method and not attribute, the self arg is passed automatically"
   ]
  },
  {
   "cell_type": "code",
   "execution_count": 27,
   "metadata": {},
   "outputs": [
    {
     "data": {
      "text/plain": [
       "'Aaron Dsouza'"
      ]
     },
     "execution_count": 27,
     "metadata": {},
     "output_type": "execute_result"
    }
   ],
   "source": [
    "##we can run the method using class name explicitly as well\n",
    "Employee.fullname(emp3)"
   ]
  },
  {
   "cell_type": "code",
   "execution_count": 28,
   "metadata": {},
   "outputs": [],
   "source": [
    "## class variables are shared between instances\n",
    "class Employee:\n",
    "    raise_amount =1.04 ## class variable is set before the initialize and can be used across instances\n",
    "    def __init__(self,first,last,pay): \n",
    "        self.first = first\n",
    "        self.last = last\n",
    "        self.pay = pay\n",
    "        self.email = first + '.'+last+'@email.com'\n",
    "\n",
    "    def fullname(self): \n",
    "        return (self.first +\" \"+self.last)\n",
    "    def apply_raise(self):\n",
    "        self.pay = int(self.pay*self.raise_amount)\n",
    "\n",
    "    "
   ]
  },
  {
   "cell_type": "code",
   "execution_count": 29,
   "metadata": {},
   "outputs": [
    {
     "name": "stdout",
     "output_type": "stream",
     "text": [
      "1.04\n",
      "1.04\n"
     ]
    }
   ],
   "source": [
    "emp4 = Employee('Yerong','Liu', 120000)\n",
    "print(emp4.raise_amount)\n",
    "print(Employee.raise_amount) ## we can access class variable from either the class itself or an instance\n",
    "## when accessing an attribute python will first check if the instance has the attribute and if not it will check if the class has it, or any class it inherits from\n",
    "\n"
   ]
  },
  {
   "cell_type": "code",
   "execution_count": 30,
   "metadata": {},
   "outputs": [
    {
     "name": "stdout",
     "output_type": "stream",
     "text": [
      "{'first': 'Yerong', 'last': 'Liu', 'pay': 120000, 'email': 'Yerong.Liu@email.com'}\n",
      "{'__module__': '__main__', 'raise_amount': 1.04, '__init__': <function Employee.__init__ at 0x1077a8430>, 'fullname': <function Employee.fullname at 0x1077a89d0>, 'apply_raise': <function Employee.apply_raise at 0x1077a8310>, '__dict__': <attribute '__dict__' of 'Employee' objects>, '__weakref__': <attribute '__weakref__' of 'Employee' objects>, '__doc__': None}\n"
     ]
    }
   ],
   "source": [
    "print(emp4.__dict__)\n",
    "print(Employee.__dict__)"
   ]
  },
  {
   "cell_type": "code",
   "execution_count": 31,
   "metadata": {},
   "outputs": [
    {
     "name": "stdout",
     "output_type": "stream",
     "text": [
      "1.05\n",
      "1.05\n"
     ]
    }
   ],
   "source": [
    "Employee.raise_amount =1.05 ## setting the new raise amount at the class level\n",
    "print(emp4.raise_amount)\n",
    "print(Employee.raise_amount)"
   ]
  },
  {
   "cell_type": "code",
   "execution_count": 32,
   "metadata": {},
   "outputs": [
    {
     "name": "stdout",
     "output_type": "stream",
     "text": [
      "1.06\n",
      "1.05\n",
      "{'first': 'Yerong', 'last': 'Liu', 'pay': 120000, 'email': 'Yerong.Liu@email.com', 'raise_amount': 1.06}\n"
     ]
    }
   ],
   "source": [
    "emp4.raise_amount =1.06 ## setting the new raise amount at the instance level and creates a new attribute in this instance\n",
    "print(emp4.raise_amount)\n",
    "print(Employee.raise_amount)\n",
    "\n",
    "print(emp4.__dict__)"
   ]
  },
  {
   "cell_type": "code",
   "execution_count": 33,
   "metadata": {},
   "outputs": [],
   "source": [
    "\n",
    "class Employee:\n",
    "\n",
    "    emplId = 0 ## setting an initial employee id at 0\n",
    "    raise_amount =1.04 \n",
    "    def __init__(self,first,last,pay): \n",
    "        self.first = first\n",
    "        self.last = last\n",
    "        self.pay = pay\n",
    "        self.email = first + '.'+last+'@email.com'\n",
    "        Employee.emplId+=1 ## incrementing the employee Id by 1 every time a new instance is created\n",
    "\n",
    "    def fullname(self): \n",
    "        return (self.first +\" \"+self.last)\n",
    "    def apply_raise(self):\n",
    "        self.pay = int(self.pay*self.raise_amount)"
   ]
  },
  {
   "cell_type": "code",
   "execution_count": 34,
   "metadata": {},
   "outputs": [
    {
     "name": "stdout",
     "output_type": "stream",
     "text": [
      "1\n"
     ]
    }
   ],
   "source": [
    "emp5=Employee('Jerry','Spaghetti',90000)\n",
    "print(Employee.emplId) ## empl id will keep going up everytime we create a new instance"
   ]
  },
  {
   "cell_type": "markdown",
   "metadata": {},
   "source": [
    "Class and static methods"
   ]
  },
  {
   "cell_type": "code",
   "execution_count": 35,
   "metadata": {},
   "outputs": [
    {
     "name": "stdout",
     "output_type": "stream",
     "text": [
      "1.04\n",
      "1.04\n"
     ]
    }
   ],
   "source": [
    "##regular methods in class automatically take in the instance as the first arg, class methods will take the class as the arguement\n",
    "class Employee:\n",
    "\n",
    "    emplId = 0 \n",
    "    raise_amount =1.04 \n",
    "    def __init__(self,first,last,pay): \n",
    "        self.first = first\n",
    "        self.last = last\n",
    "        self.pay = pay\n",
    "        self.email = first + '.'+last+'@email.com'\n",
    "        Employee.emplId+=1 \n",
    "\n",
    "    def fullname(self): \n",
    "        return (self.first +\" \"+self.last)\n",
    "    def apply_raise(self):\n",
    "        self.pay = int(self.pay*self.raise_amount)\n",
    "    @classmethod ## this decorator will tell python this is a class method\n",
    "    def set_raise_amount(cls,amount): ## this will take in the class and the amount, cls will be the variable name for class\n",
    "        cls.raise_amount = amount ## this function will be a setter for the raise amount at the top of the class\n",
    "\n",
    "print(Employee.raise_amount)\n",
    "print(emp5.raise_amount)\n"
   ]
  },
  {
   "cell_type": "code",
   "execution_count": 36,
   "metadata": {},
   "outputs": [
    {
     "name": "stdout",
     "output_type": "stream",
     "text": [
      "1.06\n",
      "1.06\n"
     ]
    }
   ],
   "source": [
    "Employee.set_raise_amount(1.06)## setting the raise amount: this is the same as Employee.raise_amt = 1.06\n",
    "emp5=Employee('Jerry','Spaghetti',90000)\n",
    "print(Employee.raise_amount)\n",
    "print(emp5.raise_amount)"
   ]
  },
  {
   "cell_type": "code",
   "execution_count": 37,
   "metadata": {},
   "outputs": [],
   "source": [
    "##sometimes we use class methods as alternate instructors to create instances\n",
    "## we can use a class method to accept different formats of info\n",
    "emp_str_1 = 'John-Doe-70000'\n",
    "emp_str_2 = 'Jack-tortelinni-50000'\n",
    "emp_str_3 = 'Spicy-Pizzaman-130000'\n",
    "\n"
   ]
  },
  {
   "cell_type": "code",
   "execution_count": 38,
   "metadata": {},
   "outputs": [
    {
     "name": "stdout",
     "output_type": "stream",
     "text": [
      "Jack.tortelinni@email.com\n"
     ]
    }
   ],
   "source": [
    "## initial way to do this would be split the string first\n",
    "first, last, pay = emp_str_2.split('-')\n",
    "new_emp_1 = Employee(first,last,pay)\n",
    "print(new_emp_1.email)"
   ]
  },
  {
   "cell_type": "code",
   "execution_count": 39,
   "metadata": {},
   "outputs": [],
   "source": [
    "class Employee:\n",
    "\n",
    "    emplId = 0 \n",
    "    raise_amount =1.04 \n",
    "    def __init__(self,first,last,pay): \n",
    "        self.first = first\n",
    "        self.last = last\n",
    "        self.pay = pay\n",
    "        self.email = first + '.'+last+'@email.com'\n",
    "        Employee.emplId+=1 \n",
    "\n",
    "    def fullname(self): \n",
    "        return (self.first +\" \"+self.last)\n",
    "    def apply_raise(self):\n",
    "        self.pay = int(self.pay*self.raise_amount)\n",
    "    @classmethod \n",
    "    def set_raise_amount(cls,amount): \n",
    "        cls.raise_amount = amount \n",
    "    @classmethod\n",
    "    def from_string(cls,emp_str): ## creating a new constuctor method. New constructors usually are labeled with a from\n",
    "        first, last, pay = emp_str.split('-') ## we are splitting the name the same wa as above\n",
    "        return cls(first,last,pay) ##but creating and returning the new employee within the method\n",
    "\n",
    "\n"
   ]
  },
  {
   "cell_type": "code",
   "execution_count": 40,
   "metadata": {},
   "outputs": [],
   "source": [
    "new_emp_1 = Employee.from_string(emp_str_1)\n",
    "new_emp_2 = Employee.from_string(emp_str_2)\n",
    "new_emp_3 = Employee.from_string(emp_str_3)"
   ]
  },
  {
   "cell_type": "code",
   "execution_count": 41,
   "metadata": {},
   "outputs": [
    {
     "name": "stdout",
     "output_type": "stream",
     "text": [
      "70000\n",
      "Pizzaman\n"
     ]
    }
   ],
   "source": [
    "print(new_emp_1.pay)\n",
    "print(new_emp_3.last)"
   ]
  },
  {
   "cell_type": "code",
   "execution_count": 42,
   "metadata": {},
   "outputs": [],
   "source": [
    "## static methods - will not pass in anything in automatically\n",
    "class Employee:\n",
    "\n",
    "    emplId = 0 \n",
    "    raise_amount =1.04 \n",
    "    def __init__(self,first,last,pay): \n",
    "        self.first = first\n",
    "        self.last = last\n",
    "        self.pay = pay\n",
    "        self.email = first + '.'+last+'@email.com'\n",
    "        Employee.emplId+=1 \n",
    "\n",
    "    def fullname(self): \n",
    "        return (self.first +\" \"+self.last)\n",
    "    def apply_raise(self):\n",
    "        self.pay = int(self.pay*self.raise_amount)\n",
    "    @classmethod \n",
    "    def set_raise_amount(cls,amount): \n",
    "        cls.raise_amount = amount \n",
    "    @classmethod\n",
    "    def from_string(cls,emp_str): \n",
    "        first, last, pay = emp_str.split('-') \n",
    "        return cls(first,last,pay) \n",
    "    @staticmethod ## staticmethod decorator to create a static method. these will be connected to our class somehow but not dependent on class or instance\n",
    "    def is_workday(day):\n",
    "        if day.weekday()== 5 or day.weekday()==6: ##python weekday function will return 0-4 for mon-friday\n",
    "            return False\n",
    "        return True ## this should be a static method since we dont reference the class or instance within the code\n",
    "\n",
    "    \n"
   ]
  },
  {
   "cell_type": "code",
   "execution_count": 43,
   "metadata": {},
   "outputs": [
    {
     "name": "stdout",
     "output_type": "stream",
     "text": [
      "False\n"
     ]
    }
   ],
   "source": [
    "import datetime ## importing datetime\n",
    "my_date = datetime.date(2023,4,8) ## creating a date\n",
    "\n",
    "print(Employee.is_workday(my_date))"
   ]
  },
  {
   "cell_type": "markdown",
   "metadata": {},
   "source": []
  },
  {
   "cell_type": "markdown",
   "metadata": {},
   "source": [
    "Inheritance and sub classes"
   ]
  },
  {
   "cell_type": "code",
   "execution_count": 44,
   "metadata": {},
   "outputs": [
    {
     "name": "stdout",
     "output_type": "stream",
     "text": [
      "88000\n",
      "91520\n",
      "Aaron.Dynamite@email.com\n"
     ]
    }
   ],
   "source": [
    "## sub classes allow us to add new functionality without affecting the parent class\n",
    "class Employee:\n",
    "\n",
    "    emplId = 0 \n",
    "    raise_amount =1.04 \n",
    "    def __init__(self,first,last,pay): \n",
    "        self.first = first\n",
    "        self.last = last\n",
    "        self.pay = pay\n",
    "        self.email = first + '.'+last+'@email.com'\n",
    "        Employee.emplId+=1 \n",
    "\n",
    "    def fullname(self): \n",
    "        return (self.first +\" \"+self.last)\n",
    "    def apply_raise(self):\n",
    "        self.pay = int(self.pay*self.raise_amount)\n",
    "    @classmethod \n",
    "    def set_raise_amount(cls,amount): \n",
    "        cls.raise_amount = amount \n",
    "    @classmethod\n",
    "    def from_string(cls,emp_str): \n",
    "        first, last, pay = emp_str.split('-') \n",
    "        return cls(first,last,pay) \n",
    "    @staticmethod \n",
    "    def is_workday(day):\n",
    "        if day.weekday()== 5 or day.weekday()==6: \n",
    "             return False\n",
    "        return True\n",
    "\n",
    "class Developer(Employee): ## to create a subclass we can just create a new class and pass in the parent class as an arg\n",
    "        pass             \n",
    "    \n",
    "dev1 = Developer('Aaron','Dynamite',88000)\n",
    "print(dev1.pay)\n",
    "dev1.apply_raise()\n",
    "print(dev1.pay)\n",
    "print(dev1.email) ## after creating a developer instance we get access to methods and attributes from employee\n"
   ]
  },
  {
   "cell_type": "code",
   "execution_count": 45,
   "metadata": {},
   "outputs": [
    {
     "name": "stdout",
     "output_type": "stream",
     "text": [
      "Help on class Developer in module __main__:\n",
      "\n",
      "class Developer(Employee)\n",
      " |  Developer(first, last, pay)\n",
      " |  \n",
      " |  Method resolution order:\n",
      " |      Developer\n",
      " |      Employee\n",
      " |      builtins.object\n",
      " |  \n",
      " |  Methods inherited from Employee:\n",
      " |  \n",
      " |  __init__(self, first, last, pay)\n",
      " |      Initialize self.  See help(type(self)) for accurate signature.\n",
      " |  \n",
      " |  apply_raise(self)\n",
      " |  \n",
      " |  fullname(self)\n",
      " |  \n",
      " |  ----------------------------------------------------------------------\n",
      " |  Class methods inherited from Employee:\n",
      " |  \n",
      " |  from_string(emp_str) from builtins.type\n",
      " |  \n",
      " |  set_raise_amount(amount) from builtins.type\n",
      " |  \n",
      " |  ----------------------------------------------------------------------\n",
      " |  Static methods inherited from Employee:\n",
      " |  \n",
      " |  is_workday(day)\n",
      " |  \n",
      " |  ----------------------------------------------------------------------\n",
      " |  Data descriptors inherited from Employee:\n",
      " |  \n",
      " |  __dict__\n",
      " |      dictionary for instance variables (if defined)\n",
      " |  \n",
      " |  __weakref__\n",
      " |      list of weak references to the object (if defined)\n",
      " |  \n",
      " |  ----------------------------------------------------------------------\n",
      " |  Data and other attributes inherited from Employee:\n",
      " |  \n",
      " |  emplId = 1\n",
      " |  \n",
      " |  raise_amount = 1.04\n",
      "\n",
      "None\n"
     ]
    }
   ],
   "source": [
    "print(help(Developer)) ## help method can show us the method resolution order/ where it will look to get methods and attributes first"
   ]
  },
  {
   "cell_type": "code",
   "execution_count": 46,
   "metadata": {},
   "outputs": [
    {
     "name": "stdout",
     "output_type": "stream",
     "text": [
      "88000\n",
      "96800\n"
     ]
    }
   ],
   "source": [
    "class Developer(Employee): \n",
    "        raise_amount = 1.10          ## changing the raise amount for only developers\n",
    "    \n",
    "dev1 = Developer('Aaron','Dynamite',88000)\n",
    "print(dev1.pay)\n",
    "dev1.apply_raise()\n",
    "print(dev1.pay)"
   ]
  },
  {
   "cell_type": "code",
   "execution_count": 47,
   "metadata": {},
   "outputs": [
    {
     "name": "stdout",
     "output_type": "stream",
     "text": [
      "Aaron.Dynamite@email.com\n",
      "Python\n"
     ]
    }
   ],
   "source": [
    "class Developer(Employee): \n",
    "        raise_amount = 1.10\n",
    "        def __init__(self, first, last, pay,lang): ## we need to create an init method for our subclasses if we want to get other information that is not in the parent classes arg\n",
    "                super().__init__(first,last,pay)## using super().__init__() we can specify which args should be inherited from the parent class\n",
    "                ##Employee.__init__(self,first,last,pay) alternate way to inherit attributes from a specified parent class\n",
    "                self.lang = lang\n",
    "\n",
    "\n",
    "\n",
    "dev1 = Developer('Aaron','Dynamite',88000,'Python')\n",
    "print(dev1.email) ## set the email at employee level\n",
    "print(dev1.lang) ## set the language at the dev level"
   ]
  },
  {
   "cell_type": "code",
   "execution_count": 48,
   "metadata": {},
   "outputs": [],
   "source": [
    "class Manager(Employee):\n",
    "    def __init__(self, first, last, pay,employees = None): ## setting employees to default to none\n",
    "                super().__init__(first,last,pay)\n",
    "                if employees == None:\n",
    "                    self.employees = []\n",
    "                else:\n",
    "                    self.employees = employees ## set employees to list passed in\n",
    "    def add_emp(self,employee):\n",
    "          if employee not in self.employees:\n",
    "                self.employees.append(employee) ## if employee isnt in list then add them\n",
    "    def remove_emp(self,employee):\n",
    "          if employee in self.employees:\n",
    "                self.employees.remove(employee) ## if employee is in list then remove them\n",
    "    def print_emps(self):\n",
    "          for emp in self.employees:\n",
    "                print(emp.fullname()) ## print all employee's full name\n",
    "            "
   ]
  },
  {
   "cell_type": "code",
   "execution_count": 50,
   "metadata": {},
   "outputs": [],
   "source": [
    "mgr1 = Manager('Sue','Smith',90000,[dev1,new_emp_3])"
   ]
  },
  {
   "cell_type": "code",
   "execution_count": 52,
   "metadata": {},
   "outputs": [
    {
     "name": "stdout",
     "output_type": "stream",
     "text": [
      "Sue.Smith@email.com\n",
      "Aaron Dynamite\n",
      "Spicy Pizzaman\n"
     ]
    }
   ],
   "source": [
    "print(mgr1.email)\n",
    "mgr1.print_emps() ## printing emps - dont need a print statement since print is in the method\n"
   ]
  },
  {
   "cell_type": "code",
   "execution_count": 53,
   "metadata": {},
   "outputs": [
    {
     "name": "stdout",
     "output_type": "stream",
     "text": [
      "Aaron Dynamite\n",
      "Spicy Pizzaman\n",
      "Jack tortelinni\n"
     ]
    }
   ],
   "source": [
    "mgr1.add_emp(new_emp_2)\n",
    "mgr1.print_emps()"
   ]
  },
  {
   "cell_type": "code",
   "execution_count": 54,
   "metadata": {},
   "outputs": [],
   "source": [
    "mgr1.remove_emp(dev1)"
   ]
  },
  {
   "cell_type": "code",
   "execution_count": 56,
   "metadata": {},
   "outputs": [
    {
     "name": "stdout",
     "output_type": "stream",
     "text": [
      "Spicy Pizzaman\n",
      "Jack tortelinni\n"
     ]
    }
   ],
   "source": [
    "mgr1.print_emps()"
   ]
  },
  {
   "cell_type": "code",
   "execution_count": 59,
   "metadata": {},
   "outputs": [
    {
     "name": "stdout",
     "output_type": "stream",
     "text": [
      "True\n",
      "True\n",
      "False\n"
     ]
    }
   ],
   "source": [
    "## python built in functions isinstance and issubclass\n",
    "print(isinstance(dev1,Developer)) ## tells us if an instance is of a particular vlass\n",
    "print(isinstance(dev1,Employee))\n",
    "print(isinstance(dev1,Manager))"
   ]
  },
  {
   "cell_type": "markdown",
   "metadata": {},
   "source": []
  },
  {
   "cell_type": "code",
   "execution_count": 60,
   "metadata": {},
   "outputs": [
    {
     "name": "stdout",
     "output_type": "stream",
     "text": [
      "True\n"
     ]
    }
   ],
   "source": [
    "print(issubclass(Manager,Employee)) ## tells us if something is a subclass of another class\n"
   ]
  },
  {
   "cell_type": "markdown",
   "metadata": {},
   "source": [
    "Special magic dunder methods"
   ]
  },
  {
   "cell_type": "code",
   "execution_count": 79,
   "metadata": {},
   "outputs": [],
   "source": [
    "## allow us to emulate some built in python behavior and overload operators\n",
    "## we can change behavior of print, addition, and other common python functions\n",
    "## will be using the developer class for code cleanliness \n",
    "\n",
    "class Developer(Employee): \n",
    "        raise_amount = 1.10\n",
    "        def __init__(self, first, last, pay,lang): \n",
    "                super().__init__(first,last,pay)\n",
    "                self.lang = lang\n",
    "        def __repr__(self): ## repr is info geared toward a dev\n",
    "                return \"Employee('{}','{}',{},'{}')\".format(self.first,self.last,self.pay,self.lang) ## returning a string we can use to recreate object\n",
    "        def __str__(self): ## this is info passed onto end user and will be passed when print is called\n",
    "                return '{} - {}'.format(self.fullname(),self.email)"
   ]
  },
  {
   "cell_type": "code",
   "execution_count": 80,
   "metadata": {},
   "outputs": [
    {
     "name": "stdout",
     "output_type": "stream",
     "text": [
      "Aaron Dynamite - Aaron.Dynamite@email.com\n"
     ]
    }
   ],
   "source": [
    "dev1 = Developer('Aaron','Dynamite',88000,'Python')\n",
    "print(dev1)"
   ]
  },
  {
   "cell_type": "code",
   "execution_count": 82,
   "metadata": {},
   "outputs": [
    {
     "name": "stdout",
     "output_type": "stream",
     "text": [
      "Employee('Aaron','Dynamite',88000,'Python')\n",
      "Aaron Dynamite - Aaron.Dynamite@email.com\n"
     ]
    }
   ],
   "source": [
    "print(repr(dev1))\n",
    "print(str(dev1))"
   ]
  },
  {
   "cell_type": "code",
   "execution_count": 83,
   "metadata": {},
   "outputs": [],
   "source": [
    "class Developer(Employee): \n",
    "        raise_amount = 1.10\n",
    "        def __init__(self, first, last, pay,lang): \n",
    "                super().__init__(first,last,pay)\n",
    "                self.lang = lang\n",
    "        def __repr__(self): \n",
    "                return \"Employee('{}','{}',{},'{}')\".format(self.first,self.last,self.pay,self.lang) \n",
    "        def __str__(self): \n",
    "                return '{} - {}'.format(self.fullname(),self.email)\n",
    "        def __add__(self,other): ## this will overwrite our addition function in python for these classes. It will add the first instance pay to the second instance pay\n",
    "                return self.pay + other.pay"
   ]
  },
  {
   "cell_type": "code",
   "execution_count": 85,
   "metadata": {},
   "outputs": [
    {
     "name": "stdout",
     "output_type": "stream",
     "text": [
      "162000\n"
     ]
    }
   ],
   "source": [
    "dev1 = Developer('Aaron','Dynamite',88000,'Python')\n",
    "dev2 = Developer('Baron','Libre',74000,'JS')\n",
    "\n",
    "print(dev1+dev2)\n",
    "\n",
    "## on documentation site there are methods for subtraction multiplicaton, length, etc"
   ]
  },
  {
   "cell_type": "markdown",
   "metadata": {},
   "source": [
    "Decorators, getters, setters, deleters"
   ]
  },
  {
   "cell_type": "code",
   "execution_count": 89,
   "metadata": {},
   "outputs": [
    {
     "name": "stdout",
     "output_type": "stream",
     "text": [
      "Nacho\n",
      "Nacho.Libre@email.com\n",
      "Nacho Libre\n"
     ]
    }
   ],
   "source": [
    "class Employee:\n",
    "    def __init__(self,first,last): \n",
    "        self.first = first\n",
    "        self.last = last\n",
    "    @property\n",
    "    def fullname(self): \n",
    "        return '{} {}'.format(self.first,self.last)\n",
    "    @property ## this decorator will make it so this function will act like an attribute and we don't need parens in the call\n",
    "    def email(self): \n",
    "        return '{}.{}@email.com'.format(self.first,self.last)\n",
    "    \n",
    "\n",
    "emp1 = Employee('Nacho','Libre')\n",
    "print(emp1.first)\n",
    "print(emp1.email)\n",
    "print(emp1.fullname)"
   ]
  },
  {
   "cell_type": "code",
   "execution_count": 90,
   "metadata": {},
   "outputs": [
    {
     "name": "stdout",
     "output_type": "stream",
     "text": [
      "Nacho\n",
      "Nacho.Libre@email.com\n",
      "Nacho Libre\n",
      "Napoleon\n",
      "Napoleon.Dynamite@email.com\n",
      "Napoleon Dynamite\n"
     ]
    }
   ],
   "source": [
    "class Employee:\n",
    "    def __init__(self,first,last): \n",
    "        self.first = first\n",
    "        self.last = last\n",
    "    @property\n",
    "    def fullname(self): \n",
    "        return '{} {}'.format(self.first,self.last)\n",
    "    @property \n",
    "    def email(self): \n",
    "        return '{}.{}@email.com'.format(self.first,self.last)\n",
    "    @fullname.setter ## creating a setter method to change our full name using a decorator\n",
    "    def fullname(self,name):\n",
    "        first, last = name.split(' ') ## splitting the name passed in into 2 parts\n",
    "        self.first = first\n",
    "        self.last = last\n",
    "    \n",
    "\n",
    "emp1 = Employee('Nacho','Libre')\n",
    "print(emp1.first)\n",
    "print(emp1.email)\n",
    "print(emp1.fullname)\n",
    "\n",
    "emp1.fullname = 'Napoleon Dynamite'\n",
    "\n",
    "print(emp1.first)\n",
    "print(emp1.email)\n",
    "print(emp1.fullname)"
   ]
  },
  {
   "cell_type": "code",
   "execution_count": 91,
   "metadata": {},
   "outputs": [
    {
     "name": "stdout",
     "output_type": "stream",
     "text": [
      "Nacho\n",
      "Nacho.Libre@email.com\n",
      "Nacho Libre\n",
      "Delete Name\n",
      "None\n",
      "None.None@email.com\n",
      "None None\n"
     ]
    }
   ],
   "source": [
    "class Employee:\n",
    "    def __init__(self,first,last): \n",
    "        self.first = first\n",
    "        self.last = last\n",
    "    @property\n",
    "    def fullname(self): \n",
    "        return '{} {}'.format(self.first,self.last)\n",
    "    @property \n",
    "    def email(self): \n",
    "        return '{}.{}@email.com'.format(self.first,self.last)\n",
    "    @fullname.setter \n",
    "    def fullname(self,name):\n",
    "        first, last = name.split(' ') \n",
    "        self.first = first\n",
    "        self.last = last\n",
    "    @fullname.deleter \n",
    "    def fullname(self):\n",
    "        print('Delete Name')\n",
    "        self.first = None\n",
    "        self.last =None\n",
    "    \n",
    "\n",
    "emp1 = Employee('Nacho','Libre')\n",
    "print(emp1.first)\n",
    "print(emp1.email)\n",
    "print(emp1.fullname)\n",
    "\n",
    "del emp1.fullname\n",
    "\n",
    "print(emp1.first)\n",
    "print(emp1.email)\n",
    "print(emp1.fullname)"
   ]
  },
  {
   "cell_type": "code",
   "execution_count": null,
   "metadata": {},
   "outputs": [],
   "source": []
  }
 ],
 "metadata": {
  "kernelspec": {
   "display_name": "Python 3.9.12 ('base')",
   "language": "python",
   "name": "python3"
  },
  "language_info": {
   "codemirror_mode": {
    "name": "ipython",
    "version": 3
   },
   "file_extension": ".py",
   "mimetype": "text/x-python",
   "name": "python",
   "nbconvert_exporter": "python",
   "pygments_lexer": "ipython3",
   "version": "3.9.12"
  },
  "orig_nbformat": 4,
  "vscode": {
   "interpreter": {
    "hash": "3d597f4c481aa0f25dceb95d2a0067e73c0966dcbd003d741d821a7208527ecf"
   }
  }
 },
 "nbformat": 4,
 "nbformat_minor": 2
}
