{
 "cells": [
  {
   "cell_type": "markdown",
   "metadata": {},
   "source": [
    "Classes in python\n"
   ]
  },
  {
   "cell_type": "code",
   "execution_count": 1,
   "metadata": {},
   "outputs": [],
   "source": [
    "##classes are used in most languages to group our functions and data\n",
    "## those are called methods and attributes\n",
    "\n",
    "class Employee: ## allows us to create multiple instances of employees and reference each instances data (classes are blueprints)\n",
    "    pass\n",
    "\n",
    "\n",
    "emp1= Employee()\n",
    "emp2=Employee()\n"
   ]
  },
  {
   "cell_type": "code",
   "execution_count": 3,
   "metadata": {},
   "outputs": [
    {
     "name": "stdout",
     "output_type": "stream",
     "text": [
      "<__main__.Employee object at 0x107d48ac0>\n"
     ]
    }
   ],
   "source": [
    "print(emp1)"
   ]
  },
  {
   "cell_type": "code",
   "execution_count": 4,
   "metadata": {},
   "outputs": [],
   "source": [
    "emp1.first='Aaron' ## editing an attribute of the emp1 instance\n",
    "emp1.last='Dsouza'\n",
    "emp1.pay= 88000\n",
    "\n",
    "emp2.first='Dave'\n",
    "emp2.last='Davidson'\n",
    "emp2.pay= 80000"
   ]
  },
  {
   "cell_type": "code",
   "execution_count": 5,
   "metadata": {},
   "outputs": [
    {
     "name": "stdout",
     "output_type": "stream",
     "text": [
      "Aaron\n"
     ]
    }
   ],
   "source": [
    "print(emp1.first) ## calling an attribute of the emp1"
   ]
  },
  {
   "cell_type": "code",
   "execution_count": 6,
   "metadata": {},
   "outputs": [],
   "source": [
    "class Employee:\n",
    "    def __init__(self,first,last,pay): ## the def init method is necessary to initialize the class; self will automatically be passed in to the class and will reference the specific instance when called\n",
    "        self.first = first\n",
    "        self.last = last\n",
    "        self.pay = pay\n",
    "        self.email = first + '.'+last+'@email.com'\n"
   ]
  },
  {
   "cell_type": "code",
   "execution_count": 8,
   "metadata": {},
   "outputs": [],
   "source": [
    "emp2 = Employee('Aaron','Dsouza',88000) ## creating a new instance of emp2 with the args passed in. init will be run automatically"
   ]
  },
  {
   "cell_type": "code",
   "execution_count": 9,
   "metadata": {},
   "outputs": [
    {
     "name": "stdout",
     "output_type": "stream",
     "text": [
      "Aaron\n"
     ]
    }
   ],
   "source": [
    "print(emp2.first)"
   ]
  },
  {
   "cell_type": "code",
   "execution_count": 10,
   "metadata": {},
   "outputs": [],
   "source": [
    "class Employee:\n",
    "    def __init__(self,first,last,pay): \n",
    "        self.first = first\n",
    "        self.last = last\n",
    "        self.pay = pay\n",
    "        self.email = first + '.'+last+'@email.com'\n",
    "    def fullname(self): ## creating a method that we can call and will return the full name\n",
    "        return (self.first +\" \"+self.last)"
   ]
  },
  {
   "cell_type": "code",
   "execution_count": 12,
   "metadata": {},
   "outputs": [
    {
     "name": "stdout",
     "output_type": "stream",
     "text": [
      "Aaron Dsouza\n"
     ]
    }
   ],
   "source": [
    "emp3 = Employee('Aaron','Dsouza',88000)\n",
    "print(emp3.fullname()) ## need the parens since its a method and not attribute, the self arg is passed automatically"
   ]
  },
  {
   "cell_type": "code",
   "execution_count": 13,
   "metadata": {},
   "outputs": [
    {
     "data": {
      "text/plain": [
       "'Aaron Dsouza'"
      ]
     },
     "execution_count": 13,
     "metadata": {},
     "output_type": "execute_result"
    }
   ],
   "source": [
    "##we can run the method using class name explicitly as well\n",
    "Employee.fullname(emp3)"
   ]
  },
  {
   "cell_type": "code",
   "execution_count": 16,
   "metadata": {},
   "outputs": [],
   "source": [
    "## class variables are shared between instances\n",
    "class Employee:\n",
    "    raise_amount =1.04 ## class variable is set before the initialize and can be used across instances\n",
    "    def __init__(self,first,last,pay): \n",
    "        self.first = first\n",
    "        self.last = last\n",
    "        self.pay = pay\n",
    "        self.email = first + '.'+last+'@email.com'\n",
    "\n",
    "    def fullname(self): \n",
    "        return (self.first +\" \"+self.last)\n",
    "    def apply_raise(self):\n",
    "        self.pay = int(self.pay*self.raise_amount)\n",
    "\n",
    "    "
   ]
  },
  {
   "cell_type": "code",
   "execution_count": 19,
   "metadata": {},
   "outputs": [
    {
     "name": "stdout",
     "output_type": "stream",
     "text": [
      "1.04\n",
      "1.04\n"
     ]
    }
   ],
   "source": [
    "emp4 = Employee('Yerong','Liu', 120000)\n",
    "print(emp4.raise_amount)\n",
    "print(Employee.raise_amount) ## we can access class variable from either the class itself or an instance\n",
    "## when accessing an attribute python will first check if the instance has the attribute and if not it will check if the class has it, or any class it inherits from\n",
    "\n"
   ]
  },
  {
   "cell_type": "code",
   "execution_count": 21,
   "metadata": {},
   "outputs": [
    {
     "name": "stdout",
     "output_type": "stream",
     "text": [
      "{'first': 'Yerong', 'last': 'Liu', 'pay': 120000, 'email': 'Yerong.Liu@email.com'}\n",
      "{'__module__': '__main__', 'raise_amount': 1.04, '__init__': <function Employee.__init__ at 0x118671670>, 'fullname': <function Employee.fullname at 0x118671700>, 'apply_raise': <function Employee.apply_raise at 0x118671550>, '__dict__': <attribute '__dict__' of 'Employee' objects>, '__weakref__': <attribute '__weakref__' of 'Employee' objects>, '__doc__': None}\n"
     ]
    }
   ],
   "source": [
    "print(emp4.__dict__)\n",
    "print(Employee.__dict__)"
   ]
  },
  {
   "cell_type": "code",
   "execution_count": 23,
   "metadata": {},
   "outputs": [
    {
     "name": "stdout",
     "output_type": "stream",
     "text": [
      "1.05\n",
      "1.05\n"
     ]
    }
   ],
   "source": [
    "Employee.raise_amount =1.05 ## setting the new raise amount at the class level\n",
    "print(emp4.raise_amount)\n",
    "print(Employee.raise_amount)"
   ]
  },
  {
   "cell_type": "code",
   "execution_count": 24,
   "metadata": {},
   "outputs": [
    {
     "name": "stdout",
     "output_type": "stream",
     "text": [
      "1.06\n",
      "1.05\n",
      "{'first': 'Yerong', 'last': 'Liu', 'pay': 120000, 'email': 'Yerong.Liu@email.com', 'raise_amount': 1.06}\n"
     ]
    }
   ],
   "source": [
    "emp4.raise_amount =1.06 ## setting the new raise amount at the instance level and creates a new attribute in this instance\n",
    "print(emp4.raise_amount)\n",
    "print(Employee.raise_amount)\n",
    "\n",
    "print(emp4.__dict__)"
   ]
  },
  {
   "cell_type": "code",
   "execution_count": 26,
   "metadata": {},
   "outputs": [],
   "source": [
    "\n",
    "class Employee:\n",
    "\n",
    "    emplId = 0 ## setting an initial employee id at 0\n",
    "    raise_amount =1.04 \n",
    "    def __init__(self,first,last,pay): \n",
    "        self.first = first\n",
    "        self.last = last\n",
    "        self.pay = pay\n",
    "        self.email = first + '.'+last+'@email.com'\n",
    "        Employee.emplId+=1 ## incrementing the employee Id by 1 every time a new instance is created\n",
    "\n",
    "    def fullname(self): \n",
    "        return (self.first +\" \"+self.last)\n",
    "    def apply_raise(self):\n",
    "        self.pay = int(self.pay*self.raise_amount)"
   ]
  },
  {
   "cell_type": "code",
   "execution_count": 29,
   "metadata": {},
   "outputs": [
    {
     "name": "stdout",
     "output_type": "stream",
     "text": [
      "3\n"
     ]
    }
   ],
   "source": [
    "emp5=Employee('Jerry','Spaghetti',90000)\n",
    "print(Employee.emplId) ## empl id will keep going up everytime we create a new instance"
   ]
  },
  {
   "cell_type": "code",
   "execution_count": null,
   "metadata": {},
   "outputs": [],
   "source": []
  }
 ],
 "metadata": {
  "kernelspec": {
   "display_name": "Python 3.9.12 ('base')",
   "language": "python",
   "name": "python3"
  },
  "language_info": {
   "codemirror_mode": {
    "name": "ipython",
    "version": 3
   },
   "file_extension": ".py",
   "mimetype": "text/x-python",
   "name": "python",
   "nbconvert_exporter": "python",
   "pygments_lexer": "ipython3",
   "version": "3.9.12"
  },
  "orig_nbformat": 4,
  "vscode": {
   "interpreter": {
    "hash": "3d597f4c481aa0f25dceb95d2a0067e73c0966dcbd003d741d821a7208527ecf"
   }
  }
 },
 "nbformat": 4,
 "nbformat_minor": 2
}
