{
 "cells": [
  {
   "cell_type": "markdown",
   "metadata": {},
   "source": [
    "Git/GitHub set up and how to use\n"
   ]
  },
  {
   "cell_type": "markdown",
   "metadata": {},
   "source": [
    "Git - open source - source control management allowing us to manage changes to a file over time\n",
    "- branches are just a different version of/a copy of a site of piece of code\n",
    "- once we are confident the copy looks good we can overwrite it to the main branch and commit it"
   ]
  },
  {
   "cell_type": "markdown",
   "metadata": {},
   "source": [
    "we can interact with git through the terminal"
   ]
  },
  {
   "cell_type": "markdown",
   "metadata": {},
   "source": [
    "We can type  -h after a git command to get help on the command such as git config -h\n",
    "\n",
    "clear will clear terminal "
   ]
  },
  {
   "cell_type": "markdown",
   "metadata": {},
   "source": [
    "to change directory we type cd and specify the directory\n",
    "\n",
    "then git init command will turn this location into a repository"
   ]
  },
  {
   "cell_type": "markdown",
   "metadata": {},
   "source": [
    "git status - this will tell us current status of the repo adn which branch im in"
   ]
  },
  {
   "cell_type": "markdown",
   "metadata": {},
   "source": [
    "tracked files will be seen by git and allow me to revert any changes i make to them"
   ]
  },
  {
   "cell_type": "markdown",
   "metadata": {},
   "source": [
    "to track a file we type\n",
    "git add filename\n",
    "\n",
    "and this will start tracking it"
   ]
  },
  {
   "cell_type": "markdown",
   "metadata": {},
   "source": [
    "to untrack a file we can type\n",
    "git rm --cached filename"
   ]
  },
  {
   "cell_type": "markdown",
   "metadata": {},
   "source": [
    "in our .gitignore file we can specify files that we want to be ignored by git completely such as sensitive information\n",
    "\n",
    "to track all files type\n",
    "git add --all"
   ]
  },
  {
   "cell_type": "markdown",
   "metadata": {},
   "source": [
    "- once they are being tracked and green they are in staging.\n",
    "we need to commit the files, which will essentially take a snapshot of them at this point in time"
   ]
  },
  {
   "cell_type": "markdown",
   "metadata": {},
   "source": [
    "to commit we can type \n",
    "git commit -m \"message for the commit\"\n"
   ]
  },
  {
   "cell_type": "markdown",
   "metadata": {},
   "source": [
    "after making changes to a doc and saving it git will recognize that it has been modified\n",
    "\n",
    "we will need to go in and commit the changes\n",
    "before doing that we can type git diff to see the changes"
   ]
  },
  {
   "cell_type": "markdown",
   "metadata": {},
   "source": [
    "after making the change we will want to type\n",
    "git add filename or -A\n",
    "this will move file to staging where a file sits before being committed\n",
    "then type git commit\n",
    "\n",
    "to remove from staging we can type\n",
    "git restore --staged filename or -A"
   ]
  },
  {
   "cell_type": "markdown",
   "metadata": {},
   "source": [
    "if we delete a file we can use\n",
    "git restore \"filename\" \n",
    "\n",
    "to rename a file we type git mv \"old file nae\" \"new file name\"\n"
   ]
  },
  {
   "cell_type": "markdown",
   "metadata": {},
   "source": [
    "to bypass staging we can use:\n",
    "git commit -a -m \"message\"\n"
   ]
  },
  {
   "cell_type": "markdown",
   "metadata": {},
   "source": [
    "git log will allow us to see all git commits"
   ]
  },
  {
   "cell_type": "markdown",
   "metadata": {},
   "source": [
    "to go back to a previous commit we can type in\n",
    "git reset plus hastag number from git log"
   ]
  },
  {
   "cell_type": "markdown",
   "metadata": {},
   "source": [
    "we can create new branches to work on issues or features without affecting the main branch\n",
    "to create a new branch we type \n",
    "- git branch name_for_branch"
   ]
  },
  {
   "cell_type": "markdown",
   "metadata": {},
   "source": [
    "to see how many branches we have we can type\n",
    "- git branch\n",
    "we will see a star next to the current branch we are in"
   ]
  },
  {
   "cell_type": "markdown",
   "metadata": {},
   "source": [
    "to switch branches we type\n",
    "- git switch branch_name\n",
    "\n",
    "to commit the change we will type\n",
    "- git commit -a -m \n"
   ]
  },
  {
   "cell_type": "markdown",
   "metadata": {},
   "source": [
    "to merge the other branches into main we can type\n",
    "- git merge -m \"message\" branch_name"
   ]
  },
  {
   "cell_type": "markdown",
   "metadata": {},
   "source": [
    "Most used libraries\n",
    "- Pandas\n",
    "- Numpy\n",
    "- Seaborn\n",
    "- Plotly.express\n",
    "- Matplotlib.pyplot\n",
    "- sqlalchemy\n",
    "- pylab\n",
    "- time & datetime\n",
    "- manimlib\n",
    "- random\n"
   ]
  },
  {
   "cell_type": "markdown",
   "metadata": {},
   "source": []
  }
 ],
 "metadata": {
  "kernelspec": {
   "display_name": "Python 3.9.12 ('base')",
   "language": "python",
   "name": "python3"
  },
  "language_info": {
   "codemirror_mode": {
    "name": "ipython",
    "version": 3
   },
   "file_extension": ".py",
   "mimetype": "text/x-python",
   "name": "python",
   "nbconvert_exporter": "python",
   "pygments_lexer": "ipython3",
   "version": "3.9.12"
  },
  "orig_nbformat": 4,
  "vscode": {
   "interpreter": {
    "hash": "3d597f4c481aa0f25dceb95d2a0067e73c0966dcbd003d741d821a7208527ecf"
   }
  }
 },
 "nbformat": 4,
 "nbformat_minor": 2
}
