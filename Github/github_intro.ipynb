{
 "cells": [
  {
   "cell_type": "markdown",
   "metadata": {},
   "source": [
    "Git/GitHub set up and how to use\n"
   ]
  },
  {
   "cell_type": "markdown",
   "metadata": {},
   "source": [
    "Git - open source - source control management allowing us to manage changes to a file over time\n",
    "- branches are just a different version of/a copy of a site of piece of code\n",
    "- once we are confident the copy looks good we can overwrite it to the main branch and commit it"
   ]
  },
  {
   "cell_type": "markdown",
   "metadata": {},
   "source": [
    "we can interact with git through the terminal"
   ]
  },
  {
   "cell_type": "markdown",
   "metadata": {},
   "source": [
    "We can type  -h after a git command to get help on the command such as git config -h\n",
    "\n",
    "clear will clear terminal "
   ]
  },
  {
   "cell_type": "markdown",
   "metadata": {},
   "source": [
    "to change directory we type cd and specify the directory\n",
    "\n",
    "then git init command will turn this location into a repository"
   ]
  },
  {
   "cell_type": "markdown",
   "metadata": {},
   "source": [
    "git status - this will tell us current status of the repo adn which branch im in"
   ]
  },
  {
   "cell_type": "markdown",
   "metadata": {},
   "source": [
    "tracked files will be seen by git and allow me to revert any changes i make to them"
   ]
  },
  {
   "cell_type": "markdown",
   "metadata": {},
   "source": [
    "to track a file we type\n",
    "git add filename\n",
    "\n",
    "and this will start tracking it"
   ]
  },
  {
   "cell_type": "markdown",
   "metadata": {},
   "source": [
    "to untrack a file we can type\n",
    "git rm --cached filename"
   ]
  },
  {
   "cell_type": "markdown",
   "metadata": {},
   "source": [
    "in our .gitignore file we can specify files that we want to be ignored by git completely such as sensitive information"
   ]
  },
  {
   "cell_type": "markdown",
   "metadata": {},
   "source": [
    "Most used libraries\n",
    "- Pandas\n",
    "- Numpy\n",
    "- Seaborn\n",
    "- Plotly.express\n",
    "- Matplotlib.pyplot\n",
    "- sqlalchemy\n",
    "- pylab\n",
    "- time & datetime\n",
    "- manimlib\n",
    "- random\n"
   ]
  },
  {
   "cell_type": "markdown",
   "metadata": {},
   "source": []
  }
 ],
 "metadata": {
  "kernelspec": {
   "display_name": "Python 3.9.12 ('base')",
   "language": "python",
   "name": "python3"
  },
  "language_info": {
   "codemirror_mode": {
    "name": "ipython",
    "version": 3
   },
   "file_extension": ".py",
   "mimetype": "text/x-python",
   "name": "python",
   "nbconvert_exporter": "python",
   "pygments_lexer": "ipython3",
   "version": "3.9.12"
  },
  "orig_nbformat": 4,
  "vscode": {
   "interpreter": {
    "hash": "3d597f4c481aa0f25dceb95d2a0067e73c0966dcbd003d741d821a7208527ecf"
   }
  }
 },
 "nbformat": 4,
 "nbformat_minor": 2
}
