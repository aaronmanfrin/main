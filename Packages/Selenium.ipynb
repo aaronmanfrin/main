{
 "cells": [
  {
   "cell_type": "markdown",
   "metadata": {},
   "source": [
    "Learning website automation using selenium\n",
    "\n",
    "install with pip install selenium\n",
    "and pip install webdriver-manager"
   ]
  },
  {
   "cell_type": "markdown",
   "metadata": {},
   "source": []
  },
  {
   "cell_type": "code",
   "execution_count": 132,
   "metadata": {},
   "outputs": [],
   "source": [
    "import time\n",
    "from selenium import webdriver\n",
    "from selenium.webdriver.chrome.service import Service\n",
    "from selenium.webdriver.chrome.options import Options\n",
    "from webdriver_manager.chrome import ChromeDriverManager"
   ]
  },
  {
   "cell_type": "code",
   "execution_count": 133,
   "metadata": {},
   "outputs": [],
   "source": [
    "options = Options()\n",
    "options.add_experimental_option('detach',True) ## option to keep browser open after actions are completed\n",
    "\n",
    "driver = webdriver.Chrome(service=Service(ChromeDriverManager().install()),options=options) ##creating a driver instance\n",
    "\n",
    "driver.get(\"https://www.neuralnine.com/\") ## opens the specified webpage\n",
    "driver.maximize_window()## this will force fullscreen the window"
   ]
  },
  {
   "cell_type": "code",
   "execution_count": 134,
   "metadata": {},
   "outputs": [],
   "source": [
    "## finding all the links /a tags on page\n",
    "\n",
    "links = driver.find_elements(\"xpath\",\"//a[@href]\") ## getting all lines that have an href tag\n",
    "for link in links:\n",
    "    pass\n",
    "    #print(link.get_attribute('innerHTML'))## printing each of the inner html tags we gathered\n",
    "    "
   ]
  },
  {
   "cell_type": "code",
   "execution_count": 135,
   "metadata": {},
   "outputs": [],
   "source": [
    "for link in links:\n",
    "    if \"Books\" in link.get_attribute('innerHTML'):  ##checking if link includes Books\n",
    "        link.click() ## click on the book link\n",
    "        break"
   ]
  },
  {
   "cell_type": "code",
   "execution_count": 136,
   "metadata": {},
   "outputs": [],
   "source": [
    "book_links = driver.find_elements('xpath',\"//div[contains(@class, 'elementor-column-wrap')][.//h2[text()[contains(., '7 IN 1')]]][count(.//a)=2]//a\") ## this is looking for a div container thats meets this condition: it contains a class called elementor-column-wrap, and if that is met then it also has an h2 heading, with text containing the words 7IN 1, then checking if it has 2 anchor tags and if so then get them\n",
    "#for book_link in book_links:\n",
    "#    print(book_link.get_attribute(\"href\"))"
   ]
  },
  {
   "cell_type": "code",
   "execution_count": 137,
   "metadata": {},
   "outputs": [],
   "source": [
    "\n",
    "book_links[1].click()  ## clicking on the first link we got\n"
   ]
  },
  {
   "cell_type": "code",
   "execution_count": 138,
   "metadata": {},
   "outputs": [
    {
     "name": "stdout",
     "output_type": "stream",
     "text": [
      " $37.42 - $39.99 \n"
     ]
    }
   ],
   "source": [
    "## in selenium we are still on the first tab, we must move to the new amazon tab\n",
    "driver.switch_to.window(driver.window_handles[1])\n",
    "time.sleep(3) ## allowing the page to load\n",
    "\n",
    "buttons = driver.find_elements(\"xpath\",\"//a[.//span[text()[contains(.,'Paperback')]]]//span[text()[contains(., '$')]]\")##finding anchor tags that contains span which contains \"paperback\", then within that we find text that contains $ sign\n",
    "\n",
    "for button in buttons:\n",
    "    print(button.get_attribute('innerHTML')) ## printing the button which contains our monetary value\n",
    "\n"
   ]
  },
  {
   "cell_type": "code",
   "execution_count": null,
   "metadata": {},
   "outputs": [],
   "source": []
  }
 ],
 "metadata": {
  "kernelspec": {
   "display_name": "Python 3.9.12 ('base')",
   "language": "python",
   "name": "python3"
  },
  "language_info": {
   "codemirror_mode": {
    "name": "ipython",
    "version": 3
   },
   "file_extension": ".py",
   "mimetype": "text/x-python",
   "name": "python",
   "nbconvert_exporter": "python",
   "pygments_lexer": "ipython3",
   "version": "3.9.12"
  },
  "orig_nbformat": 4,
  "vscode": {
   "interpreter": {
    "hash": "3d597f4c481aa0f25dceb95d2a0067e73c0966dcbd003d741d821a7208527ecf"
   }
  }
 },
 "nbformat": 4,
 "nbformat_minor": 2
}
